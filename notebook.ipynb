{
 "cells": [
  {
   "cell_type": "markdown",
   "id": "47ebff43",
   "metadata": {},
   "source": [
    "[<img src=\"./pics/ide3a_logo.png\" width=\"300\"/>](./pics/ide3a_logo.png)\n",
    "### **Smart Cities Hackathon** (Winter Semester 2022/23)\n",
    "\n",
    "**ID:** Traffic-Monitoring \\\n",
    "**Challange title:** Traffic Monitoring and Pattern Detection via Realistic Traffic Modeling Simulation for Smart Cities \\\n",
    "\\\n",
    "**Description:** Cities are living organisms. This can be interpreted by observing the city traffic that has developed over the years. Increasing job demands, changing housing and other social needs have made us more dependent on smart mobility. Low-carbon transport alternatives are especially crucial in developed countries, as they have densely populated metropolitan areas and are heavily dependent on industries and transportation infrastructures that use fossil fuels. For example, the USA, Canada, Japan and Western Europe are home to 8.8% of the world's population but are responsible for 21.6% of greenhouse gas emissions. (Based on data published at [1,2]) Therefore, developing smart mobility solutions in cities is more than a choice. The best starting point for solving this problem is to first conduct a careful statistical analysis of the traffic data (e.g. [3]).\\\n",
    "For this Hackathon, you will have a comprehensive traffic model (similar to the example in the [4]) constructed for Eclipse MOSAIC and SUMO. This allows you to analyze mixed traffic scenarios involving connected vehicles and infrastructures. It enables you to develop traffic models or algorithms to detect traffic patterns and anomalies. Based on real traffic status, some information can be transmitted through connected vehicles and RSUs, which may regulate the traffic flow. Thus, it may also be possible to make an environment-aware or safety-focus traffic planning.\\\n",
    "The main task in this assignment is to develop a monitoring system for traffic flow and an advisory model for traffic congestions. Evaluation will be made according to the sophistication and performance of the model providing meaningful insights derived from the datasets. This dataset is generated from Eclipse MOSAIC simulation logs. The data recorded in these logs are widespread types of data required for traffic analysis systems of next level smart cities [5,6 and 7].\n",
    "\\\n",
    "**Suggested readings**\\\n",
    "[1] Annual share of global CO₂ emissions, https://ourworldindata.org/grapher/annual-share-of-co2-emissions \\\n",
    "[2] Population, https://ourworldindata.org/grapher/population \\\n",
    "[3] Traffic index ranking by TomTom, accessed on 27 October 2022, https://www.tomtom.com/traffic-index/berlin-traffic/ \\\n",
    "[4] The large-scale traffic scenario of Berlin, accessed on 27 October 2022, https://www.eclipse.org/mosaic/post/best-scenario-short/"
   ]
  },
  {
   "cell_type": "markdown",
   "id": "c54a851f",
   "metadata": {},
   "source": [
    "#### **Implementation of Project**"
   ]
  },
  {
   "cell_type": "markdown",
   "id": "1846ad0b",
   "metadata": {},
   "source": [
    "##### Running the simulation\n",
    "Please read the following reminders:\n",
    "- If you have already installed the necessary software and packages/libraries, you are ready to run the simulation.\n",
    "- If not, please visit [link](https://github.com/ide3a/installation-guide) to quickly install the required software/packages. Unlike the workshop, please check your Java version by typing `java --version`, you should be using the `openjdk 11.X.X` version. If you have an older or newer version, please uninstall this version and install [JDK11](https://adoptium.net/temurin/releases/?version=11) from the link. Otherwise you may not be able to run the simulation or you may get unexpected errors.\n",
    "- If you are a Windows user, remember to set **JAVA_HOME** as the environment variable. You will see the same warning in the [related link](https://github.com/ide3a/installation-guide).\n",
    "- In Jupyter Lab, go to the terminal, run the following command according to your operating system.\n",
    "**Note:** If you don't see the terminal button, you can open a new launcher from the `File` tab in the menu, then click the `Terminal` button"
   ]
  },
  {
   "cell_type": "markdown",
   "id": "65cc92d2",
   "metadata": {},
   "source": [
    "##### For Windows Users:\n",
    "`.\\mosaic.bat -s BuenosAires -v`\n",
    "##### For Mac/Linux Users\n",
    "`./mosaic.sh -s BuenosAires -v`\\\n",
    "\\\n",
    "<em><strong>Hint 1:</strong></em> The `-v` option is to start the visualization, with this option you can see a visualization of the simulation in a new window.\\\n",
    "\\\n",
    "<em><strong>Hint 2:</strong></em> If you want to change the simulatino speed, add `-b` option with a number. For example: `-b 1` is for realtime simulation speed, or larger numbers are for faster simulation.  \n",
    "\\\n",
    "<em><strong>Hint 3:</strong></em> As soon as the simulation starts running, you will see the information on the terminal. You will notice how long the total simulation time is. This will allow you to write code simultaneously without stopping the simulation. While the simulation is running in the background, you can get the necessary data from the server and test the concept you have designed. "
   ]
  },
  {
   "cell_type": "markdown",
   "id": "f6eba319",
   "metadata": {},
   "source": [
    "##### Importing Related Libraries"
   ]
  },
  {
   "cell_type": "code",
   "execution_count": null,
   "id": "9524864e-dfdb-4e49-b517-b16236a263e1",
   "metadata": {},
   "outputs": [],
   "source": [
    "from zmessaging import ZMessaging\n",
    "from IPython.display import clear_output\n",
    "import time\n",
    "import pandas as pd\n",
    "import numpy as np\n",
    "import json\n",
    "\n",
    "try: \n",
    "    server = ZMessaging() \n",
    "    print(\"Server created successfully!\")\n",
    "except Exception as e:\n",
    "    print(\"Server creation failed!\")\n",
    "    print(e)"
   ]
  },
  {
   "cell_type": "markdown",
   "id": "476f0dff",
   "metadata": {},
   "source": [
    "##### Method for retrieving the dataset published by the server\n",
    "Already created an instance called `server`. With `receive_data()` method, you may read the message about the floating vehicle data, which is transmitted through the ZeroMQ server. Each time you call the method, you get traffic data at that moment based on the timestamp. Similarly, if we call in a loop, you can create a synchronous data transfer pipeline."
   ]
  },
  {
   "cell_type": "code",
   "execution_count": null,
   "id": "7fd46e85",
   "metadata": {},
   "outputs": [],
   "source": [
    "data = server.receive_data()\n",
    "display(data)"
   ]
  },
  {
   "cell_type": "markdown",
   "id": "3ac3fcc5",
   "metadata": {},
   "source": [
    "##### Play in the sandbox to create a realtime data pipeline"
   ]
  },
  {
   "cell_type": "code",
   "execution_count": null,
   "id": "8db44425",
   "metadata": {},
   "outputs": [],
   "source": [
    "# Code to here to receive realtime data from the server\n",
    "# . . ."
   ]
  },
  {
   "cell_type": "markdown",
   "id": "1f7c65f9",
   "metadata": {},
   "source": [
    "##### Reformating the data received (Optional)"
   ]
  },
  {
   "cell_type": "code",
   "execution_count": null,
   "id": "c45bf25d",
   "metadata": {},
   "outputs": [],
   "source": [
    "# write your own code\n",
    "#\n",
    "#\n",
    "#"
   ]
  },
  {
   "cell_type": "markdown",
   "id": "daf13c0c-bd4c-4ca6-ab4f-c398a1c0ab0f",
   "metadata": {},
   "source": [
    "##### Scattering the positions, Plot Speed/Time etc. (Optional)"
   ]
  },
  {
   "cell_type": "code",
   "execution_count": null,
   "id": "980daa33-0e15-435e-adc0-c53046cce9df",
   "metadata": {},
   "outputs": [],
   "source": [
    "#import matplotlib.pyplot as plt\n",
    "\n",
    "#\n",
    "#\n",
    "#\n"
   ]
  },
  {
   "cell_type": "markdown",
   "id": "f5fd9e10",
   "metadata": {},
   "source": [
    "#### What is going on in the background?\n",
    "The special application called `FlowBreakdownInteraction` causes a breakdown in a traffic flow based on a predefined rule. Due to this break in traffic flow, vehicles traveling on these designated roads are sent a message from the central RSU so that they are instructed to slow down. The result is traffic congestion. "
   ]
  },
  {
   "cell_type": "markdown",
   "id": "ece3c86c",
   "metadata": {},
   "source": [
    "#### Tasks for you\n",
    "- Analyze cases with data from the data pipeline \n",
    "- Try to identify what kind of anomalies there are in the traffic by analyzing the serialized data: In particular, identify roads with sudden slowdowns in the traffic flow.\n",
    "- Be careful, the vehicle IDs are not disclosed by the server because it is very important that the vehicles remain anonymous, it is not possible to track any vehicle just by seeing their IDs.\n",
    "- Once you have identified the roadIDs with anomalies, send a message by calling the `send_warning()` method. This way, you can warn the vehicles that there are traffic jams on specified roads and reroute them to alternative routes.\n",
    "- If you correctly send the message to a valid roadId, you will receive `true`, otherwise you will receive `false`. Hint! This does not mean, you found the roadId having anomalies. It is only an information which says you send a message with a valid roadId.\n",
    "\n",
    "[<img src=\"./pics/send_message.png\" width=\"500\"/>](./pics/send_message.png)"
   ]
  },
  {
   "cell_type": "markdown",
   "id": "2943c602-312f-4215-8065-cb1e0698267b",
   "metadata": {},
   "source": [
    "##### Speed Estimation via Positions (Optional)"
   ]
  },
  {
   "cell_type": "code",
   "execution_count": null,
   "id": "14af31dc-ad69-4f81-bae6-ac19edee03cd",
   "metadata": {},
   "outputs": [],
   "source": [
    "# Write your own code\n",
    "#\n",
    "#\n",
    "#"
   ]
  },
  {
   "cell_type": "markdown",
   "id": "37e5934d-92f3-439c-b705-c0e98468da64",
   "metadata": {},
   "source": [
    "#### Valid Method to interact with ZeroMq server"
   ]
  },
  {
   "cell_type": "code",
   "execution_count": null,
   "id": "75fbd44b-daa7-4702-a3fc-ee4c92d0a15a",
   "metadata": {},
   "outputs": [],
   "source": [
    "data = server.receive_data()\n",
    "display(data)"
   ]
  },
  {
   "cell_type": "code",
   "execution_count": null,
   "id": "54541df8-22cd-4804-94f6-61e58dfb3ddf",
   "metadata": {},
   "outputs": [],
   "source": [
    "server.send_warning(\"invalid_road_id\")"
   ]
  },
  {
   "cell_type": "code",
   "execution_count": null,
   "id": "c8871ea1-3767-4dde-93ab-786a565f0231",
   "metadata": {},
   "outputs": [],
   "source": [
    "server.send_warning(\"447506859_81551284_437564732\")"
   ]
  }
 ],
 "metadata": {
  "kernelspec": {
   "display_name": "Python 3 (ipykernel)",
   "language": "python",
   "name": "python3"
  },
  "language_info": {
   "codemirror_mode": {
    "name": "ipython",
    "version": 3
   },
   "file_extension": ".py",
   "mimetype": "text/x-python",
   "name": "python",
   "nbconvert_exporter": "python",
   "pygments_lexer": "ipython3",
   "version": "3.10.4"
  },
  "vscode": {
   "interpreter": {
    "hash": "4ba9ebd656d7d9fdee8bcd28a296221723ad75e40f3e8b1d0ab390610c21bbf4"
   }
  }
 },
 "nbformat": 4,
 "nbformat_minor": 5
}
